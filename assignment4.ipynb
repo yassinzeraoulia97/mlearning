{
 "cells": [
  {
   "cell_type": "code",
   "execution_count": 11,
   "metadata": {},
   "outputs": [],
   "source": [
    "import pandas as pd\n",
    "import numpy as np\n",
    "from sklearn.neural_network import MLPClassifier\n",
    "from sklearn.preprocessing import MinMaxScaler"
   ]
  },
  {
   "cell_type": "code",
   "execution_count": 12,
   "metadata": {},
   "outputs": [
    {
     "name": "stderr",
     "output_type": "stream",
     "text": [
      "C:\\Users\\yassi\\AppData\\Local\\Packages\\PythonSoftwareFoundation.Python.3.9_qbz5n2kfra8p0\\LocalCache\\local-packages\\Python39\\site-packages\\IPython\\core\\interactiveshell.py:3444: DtypeWarning: Columns (11,12,31) have mixed types.Specify dtype option on import or set low_memory=False.\n",
      "  exec(code_obj, self.user_global_ns, self.user_ns)\n"
     ]
    }
   ],
   "source": [
    "\n",
    " # Load train and test data\n",
    "train_data = pd.read_csv('train.csv', encoding = 'ISO-8859-1')\n",
    "test_data = pd.read_csv('test.csv')\n",
    "\n",
    " # Filter null valued compliance rows\n",
    "train_data = train_data[(train_data['compliance'] == 0) | (train_data['compliance'] == 1)]\n",
    "address =  pd.read_csv('addresses.csv')"
   ]
  },
  {
   "cell_type": "code",
   "execution_count": 13,
   "metadata": {},
   "outputs": [
    {
     "data": {
      "text/html": [
       "<div>\n",
       "<style scoped>\n",
       "    .dataframe tbody tr th:only-of-type {\n",
       "        vertical-align: middle;\n",
       "    }\n",
       "\n",
       "    .dataframe tbody tr th {\n",
       "        vertical-align: top;\n",
       "    }\n",
       "\n",
       "    .dataframe thead th {\n",
       "        text-align: right;\n",
       "    }\n",
       "</style>\n",
       "<table border=\"1\" class=\"dataframe\">\n",
       "  <thead>\n",
       "    <tr style=\"text-align: right;\">\n",
       "      <th></th>\n",
       "      <th>ticket_id</th>\n",
       "      <th>lat</th>\n",
       "      <th>lon</th>\n",
       "    </tr>\n",
       "    <tr>\n",
       "      <th>address</th>\n",
       "      <th></th>\n",
       "      <th></th>\n",
       "      <th></th>\n",
       "    </tr>\n",
       "  </thead>\n",
       "  <tbody>\n",
       "    <tr>\n",
       "      <th>-11064 gratiot, Detroit MI</th>\n",
       "      <td>328722</td>\n",
       "      <td>42.406935</td>\n",
       "      <td>-82.995599</td>\n",
       "    </tr>\n",
       "    <tr>\n",
       "      <th>-11871 wilfred, Detroit MI</th>\n",
       "      <td>350971</td>\n",
       "      <td>42.411288</td>\n",
       "      <td>-82.993674</td>\n",
       "    </tr>\n",
       "    <tr>\n",
       "      <th>-15126 harper, Detroit MI</th>\n",
       "      <td>344821</td>\n",
       "      <td>42.406402</td>\n",
       "      <td>-82.957525</td>\n",
       "    </tr>\n",
       "    <tr>\n",
       "      <th>0 10th st, Detroit MI</th>\n",
       "      <td>24928</td>\n",
       "      <td>42.325689</td>\n",
       "      <td>-83.064330</td>\n",
       "    </tr>\n",
       "    <tr>\n",
       "      <th>0 10th st, Detroit MI</th>\n",
       "      <td>71887</td>\n",
       "      <td>42.325689</td>\n",
       "      <td>-83.064330</td>\n",
       "    </tr>\n",
       "  </tbody>\n",
       "</table>\n",
       "</div>"
      ],
      "text/plain": [
       "                            ticket_id        lat        lon\n",
       "address                                                    \n",
       "-11064 gratiot, Detroit MI     328722  42.406935 -82.995599\n",
       "-11871 wilfred, Detroit MI     350971  42.411288 -82.993674\n",
       "-15126 harper, Detroit MI      344821  42.406402 -82.957525\n",
       "0 10th st, Detroit MI           24928  42.325689 -83.064330\n",
       "0 10th st, Detroit MI           71887  42.325689 -83.064330"
      ]
     },
     "execution_count": 13,
     "metadata": {},
     "output_type": "execute_result"
    }
   ],
   "source": [
    " # Load address and location information\n",
    "latlons = pd.read_csv('latlons.csv')\n",
    "address = address.set_index('address').join(latlons.set_index('address'), how='left')\n",
    "\n",
    "address.head()"
   ]
  },
  {
   "cell_type": "code",
   "execution_count": 14,
   "metadata": {},
   "outputs": [],
   "source": [
    "#outer join with address and train-test data\n",
    "train_data = train_data.set_index('ticket_id').join(address.set_index('ticket_id'))\n",
    "test_data = test_data.set_index('ticket_id').join(address.set_index('ticket_id'))"
   ]
  },
  {
   "cell_type": "code",
   "execution_count": 15,
   "metadata": {},
   "outputs": [],
   "source": [
    "train_data = train_data[~train_data['hearing_date'].isnull()]\n",
    "\n",
    "# Remove Non Existing Features In Test Data\n",
    "\n",
    "train_delete = [\n",
    "            'balance_due',\n",
    "            'collection_status',\n",
    "            'compliance_detail',\n",
    "            'payment_amount',\n",
    "            'payment_date',\n",
    "            'payment_status'\n",
    "        ]\n",
    "\n",
    "train_data.drop(train_delete, axis=1, inplace=True)"
   ]
  },
  {
   "cell_type": "code",
   "execution_count": 16,
   "metadata": {},
   "outputs": [],
   "source": [
    "#Removing string data from the dataset \n",
    "string_toremove = ['violator_name', 'zip_code', 'country', 'city',\n",
    "            'inspector_name', 'violation_street_number', 'violation_street_name',\n",
    "            'violation_zip_code', 'violation_description',\n",
    "            'mailing_address_str_number', 'mailing_address_str_name',\n",
    "            'non_us_str_code', 'agency_name', 'state', 'disposition',\n",
    "            'ticket_issued_date', 'hearing_date', 'grafitti_status', 'violation_code'\n",
    "        ]\n",
    "train_data.drop(string_toremove, axis=1, inplace=True)\n",
    "test_data.drop(string_toremove, axis=1, inplace=True)"
   ]
  },
  {
   "cell_type": "code",
   "execution_count": 17,
   "metadata": {},
   "outputs": [],
   "source": [
    "# Fill NA Lat Lon Values\n",
    "train_data.lat.fillna(method='pad', inplace=True)\n",
    "train_data.lon.fillna(method='pad', inplace=True)\n",
    "test_data.lat.fillna(method='pad', inplace=True)\n",
    "test_data.lon.fillna(method='pad', inplace=True)"
   ]
  },
  {
   "cell_type": "code",
   "execution_count": null,
   "metadata": {},
   "outputs": [],
   "source": []
  }
 ],
 "metadata": {
  "interpreter": {
   "hash": "2639faf0432a01efe8acae13bf829f40a9806ca3719d3ef4cec63cb3b2b54f7b"
  },
  "kernelspec": {
   "display_name": "Python 3.9.8 64-bit (windows store)",
   "name": "python3"
  },
  "language_info": {
   "codemirror_mode": {
    "name": "ipython",
    "version": 3
   },
   "file_extension": ".py",
   "mimetype": "text/x-python",
   "name": "python",
   "nbconvert_exporter": "python",
   "pygments_lexer": "ipython3",
   "version": "3.9.8"
  },
  "orig_nbformat": 4
 },
 "nbformat": 4,
 "nbformat_minor": 2
}
